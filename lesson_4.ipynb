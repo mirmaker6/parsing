{
 "cells": [
  {
   "cell_type": "markdown",
   "metadata": {},
   "source": [
    "Развернуть у себя на компьютере/виртуальной машине/хостинге MongoDB и реализовать функцию, записывающую собранные вакансии в созданную БД\n",
    "Написать функцию, которая производит поиск и выводит на экран вакансии с заработной платой больше введенной суммы 3*.Написать функцию, которая будет добавлять в вашу базу данных только новые вакансии с сайта"
   ]
  },
  {
   "cell_type": "code",
   "execution_count": 1,
   "metadata": {},
   "outputs": [],
   "source": [
    "from bs4 import BeautifulSoup as bs\n",
    "import requests\n",
    "import re\n",
    "import numpy as np\n",
    "from pymongo import MongoClient\n",
    "import pprint"
   ]
  },
  {
   "cell_type": "code",
   "execution_count": 2,
   "metadata": {},
   "outputs": [],
   "source": [
    "def req_hh(lang, page):\n",
    "    if lang == 'C#':\n",
    "        lang = 'C%23'\n",
    "    URL = f'https://m.hh.ru/vacancies?text={lang}&only_with_salary=true&area=1&page={page}'\n",
    "    get = requests.get(URL)\n",
    "    get.encoding = 'utf-8'\n",
    "    html = get.text\n",
    "    parsed_html = bs(html,'lxml')\n",
    "    return parsed_html\n",
    "\n",
    "\n",
    "def vacancy_search(money, collection):\n",
    "    return collection.find( { '$or': [ {'min_salary': {'$gte': money} }, {'max_salary': {'$gte': money} } ] } )\n",
    "\n"
   ]
  },
  {
   "cell_type": "markdown",
   "metadata": {},
   "source": [
    "Инициализация БД:"
   ]
  },
  {
   "cell_type": "code",
   "execution_count": 3,
   "metadata": {},
   "outputs": [],
   "source": [
    "client = MongoClient('mongodb://127.0.0.1:27017')\n",
    "db = client['lesson_4']\n",
    "lesson = db.jobs_list"
   ]
  },
  {
   "cell_type": "code",
   "execution_count": 4,
   "metadata": {},
   "outputs": [],
   "source": [
    "REQUEST = 'Python'\n",
    "NUMB_PAGES = 3"
   ]
  },
  {
   "cell_type": "markdown",
   "metadata": {},
   "source": [
    "Парсинг HTML страницы и получение списка вакансий:"
   ]
  },
  {
   "cell_type": "code",
   "execution_count": 5,
   "metadata": {
    "scrolled": false
   },
   "outputs": [],
   "source": [
    "jobs_list = []\n",
    "for page in range(NUMB_PAGES):\n",
    "    \n",
    "    parsed_html = req_hh(REQUEST, page)\n",
    "    divs_with_job = parsed_html.find_all('ul')[0].find_all('li')\n",
    "    \n",
    "    for i in divs_with_job:\n",
    "        job = {}\n",
    "        spam_currency = i.find_all('span')\n",
    "        min_salary = max_salary = np.nan\n",
    "        if len(spam_currency) > 1:\n",
    "            \n",
    "            salary = list(i.find_all('span')[0].strings)[0]\n",
    "            _str = salary.replace(u'\\u2009','').replace(u'\\n                    ','')\n",
    "\n",
    "            if _str[:2] == 'от':\n",
    "                min_salary = int(re.findall('\\d+',_str)[0]) \n",
    "            elif _str[:2] == 'до':\n",
    "                max_salary = int(re.findall('\\d+',_str)[0])\n",
    "            else:\n",
    "                min_salary = int(re.findall('\\d+',_str)[0])\n",
    "                max_salary = int(re.findall('\\d+',_str)[1])\n",
    "            \n",
    "            job['min_salary'] = min_salary\n",
    "            job['max_salary'] = max_salary\n",
    "            job['currency'] = i.find_all('span')[1].string\n",
    "            job['description'] = i.find_all('div')[1].string[13:-9]\n",
    "            job['url'] = i.find_all('a')[-1]['href']\n",
    "            \n",
    "            jobs_list.append(job)\n",
    "            "
   ]
  },
  {
   "cell_type": "markdown",
   "metadata": {},
   "source": [
    "Запись вакансий с проверкой на существование в базе (без индексов(хорошо бы с ними)):"
   ]
  },
  {
   "cell_type": "code",
   "execution_count": 6,
   "metadata": {},
   "outputs": [],
   "source": [
    "for i in range(len(jobs_list)):\n",
    "    if lesson.count_documents({'url': jobs_list[i]['url']}) == 0:\n",
    "        lesson.insert_one(jobs_list[i])"
   ]
  },
  {
   "cell_type": "markdown",
   "metadata": {},
   "source": [
    "Поиск вакансий с зарплатой выше заданной:"
   ]
  },
  {
   "cell_type": "code",
   "execution_count": 7,
   "metadata": {},
   "outputs": [],
   "source": [
    "MONEY = 190000"
   ]
  },
  {
   "cell_type": "code",
   "execution_count": 8,
   "metadata": {
    "scrolled": false
   },
   "outputs": [
    {
     "name": "stdout",
     "output_type": "stream",
     "text": [
      "Вакансия: \"Python Developer\"\n",
      "Зарплата: min=160000\tmax=250000\n",
      "Ссылка: https://hh.ru/vacancy/32072763\n",
      "\n",
      "Вакансия: \"Разработчик Python\"\n",
      "Зарплата: min=160000\tmax=200000\n",
      "Ссылка: https://hh.ru/vacancy/31624245\n",
      "\n",
      "Вакансия: \"Ведущий Python разработчик\"\n",
      "Зарплата: min=150000\tmax=250000\n",
      "Ссылка: https://hh.ru/vacancy/32061372\n",
      "\n",
      "Вакансия: \"Разработчик Python/Django + React.js\"\n",
      "Зарплата: min=145000\tmax=255000\n",
      "Ссылка: https://hh.ru/vacancy/31844761\n",
      "\n",
      "Вакансия: \"Разработчик Python\"\n",
      "Зарплата: min=150000\tmax=200000\n",
      "Ссылка: https://hh.ru/vacancy/31566378\n",
      "\n",
      "Вакансия: \"Разработчик Python/Team-lead\"\n",
      "Зарплата: min=120000\tmax=200000\n",
      "Ссылка: https://hh.ru/vacancy/31974215\n",
      "\n",
      "Вакансия: \"Full-stack разработчик (Python, JavaScript)\"\n",
      "Зарплата: min=100000\tmax=200000\n",
      "Ссылка: https://hh.ru/vacancy/29195763\n",
      "\n",
      "Вакансия: \"Senior Python Developer\"\n",
      "Зарплата: min=150000\tmax=220000\n",
      "Ссылка: https://hh.ru/vacancy/31987135\n",
      "\n",
      "Вакансия: \"Data Engineering Team Lead (Python / C++)\"\n",
      "Зарплата: min=300000\tmax=400000\n",
      "Ссылка: https://hh.ru/vacancy/32030680\n",
      "\n",
      "Вакансия: \"Senior Python developer (Cloud Services)\"\n",
      "Зарплата: min=180000\tmax=230000\n",
      "Ссылка: https://hh.ru/vacancy/32152220\n",
      "\n",
      "Вакансия: \"Python developer (Cloud Services)\"\n",
      "Зарплата: min=150000\tmax=230000\n",
      "Ссылка: https://hh.ru/vacancy/31952519\n",
      "\n",
      "Вакансия: \"Python Web Developer\"\n",
      "Зарплата: min=200000\tmax=300000\n",
      "Ссылка: https://hh.ru/vacancy/32096105\n",
      "\n",
      "Вакансия: \"Ведущий разработчик Python на платежную платформу\"\n",
      "Зарплата: min=200000\tmax=nan\n",
      "Ссылка: https://hh.ru/vacancy/32256640\n",
      "\n",
      "Вакансия: \"Backend python/Django разработчик\"\n",
      "Зарплата: min=120000\tmax=200000\n",
      "Ссылка: https://hh.ru/vacancy/32027484\n",
      "\n",
      "Вакансия: \"NLP engineer / Data scientist NLP\"\n",
      "Зарплата: min=100000\tmax=250000\n",
      "Ссылка: https://hh.ru/vacancy/31963667\n",
      "\n",
      "Вакансия: \"Senior Front-end Developer (JavaScript, React)\"\n",
      "Зарплата: min=200000\tmax=nan\n",
      "Ссылка: https://hh.ru/vacancy/32144172\n",
      "\n",
      "Вакансия: \"Middle Vue.js Front-end Developer\"\n",
      "Зарплата: min=160000\tmax=190000\n",
      "Ссылка: https://hh.ru/vacancy/32075657\n",
      "\n",
      "Вакансия: \"Руководитель отдела аналитики / Senior Data Scientist\"\n",
      "Зарплата: min=150000\tmax=250000\n",
      "Ссылка: https://hh.ru/vacancy/32323137\n",
      "\n",
      "Вакансия: \"Senior Vue.js Front-end Developer\"\n",
      "Зарплата: min=180000\tmax=230000\n",
      "Ссылка: https://hh.ru/vacancy/32342494\n",
      "\n"
     ]
    }
   ],
   "source": [
    "for i in vacancy_search(MONEY, lesson):\n",
    "    print(f'Вакансия: \"{i[\"description\"]}\"\\nЗарплата: min={i[\"min_salary\"]}\\tmax={i[\"max_salary\"]}\\nСсылка: {i[\"url\"]}\\n')"
   ]
  }
 ],
 "metadata": {
  "kernelspec": {
   "display_name": "Python 3",
   "language": "python",
   "name": "python3"
  },
  "language_info": {
   "codemirror_mode": {
    "name": "ipython",
    "version": 3
   },
   "file_extension": ".py",
   "mimetype": "text/x-python",
   "name": "python",
   "nbconvert_exporter": "python",
   "pygments_lexer": "ipython3",
   "version": "3.7.3"
  }
 },
 "nbformat": 4,
 "nbformat_minor": 2
}

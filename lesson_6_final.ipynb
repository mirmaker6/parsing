{
 "cells": [
  {
   "cell_type": "markdown",
   "metadata": {},
   "source": [
    "Написать программу, которая собирает входящие письма из своего или тестового почтового ящика и сложить данные о письмах в базу данных (от кого, дата отправки, тема письма, текст письма)"
   ]
  },
  {
   "cell_type": "code",
   "execution_count": 1,
   "metadata": {},
   "outputs": [],
   "source": [
    "import os\n",
    "from pymongo import MongoClient\n",
    "from selenium import webdriver\n",
    "from selenium.webdriver.common.keys import Keys\n",
    "from selenium.webdriver.support.ui import Select\n",
    "from selenium.webdriver.support import expected_conditions as EC\n",
    "from selenium.webdriver.common.by import By\n",
    "from selenium.webdriver.support.ui import WebDriverWait\n",
    "from selenium.webdriver.common.action_chains import ActionChains\n",
    "import time"
   ]
  },
  {
   "cell_type": "code",
   "execution_count": 2,
   "metadata": {},
   "outputs": [],
   "source": [
    "def yandex_mail_parse(login, password):\n",
    "    \n",
    "    driver = webdriver.Chrome() \n",
    "    \n",
    "    driver.get(\"http://www.yandex.ru\") \n",
    "    assert \"Яндекс\" in driver.title\n",
    "    \n",
    "    enter_button = driver.find_element_by_class_name('button')\n",
    "    driver.get(enter_button.get_attribute('href'))\n",
    "    \n",
    "    login_input = driver.find_element_by_name('login')\n",
    "    login_input.send_keys(login)\n",
    "    login_input.send_keys(Keys.RETURN)\n",
    "    \n",
    "    password_input = WebDriverWait(driver,2).until(EC.presence_of_element_located((By.ID, 'passp-field-passwd'))) \n",
    "    password_input.send_keys(password)\n",
    "    password_input.send_keys(Keys.RETURN)\n",
    "    \n",
    "    #mail_list = WebDriverWait(driver,10).until(EC.presence_of_all_elements_located((By.CLASS_NAME, 'mail-MessageSnippet-Wrapper')))\n",
    "    mail_list = WebDriverWait(driver,10).until(EC.presence_of_all_elements_located((By.CLASS_NAME, 'ns-view-messages-item-wrap')))\n",
    "    url_list = []\n",
    "    \n",
    "    for mail in mail_list:\n",
    "        url = mail.find_element_by_tag_name('a').get_attribute('href')\n",
    "        url_list.append(url)\n",
    "\n",
    "    pars_mail = []\n",
    "    for url in url_list:\n",
    "    \n",
    "        mail_dict = {}\n",
    "        driver.get(url)\n",
    "        \n",
    "        try:\n",
    "            sender = WebDriverWait(driver,10).until(EC.presence_of_element_located((By.CLASS_NAME, 'mail-Message-Sender-Email'))) \n",
    "            mail_dict['sender'] = sender.text\n",
    "            mail_dict['subject'] = driver.find_element_by_class_name('mail-Message-Toolbar-Subject').text\n",
    "            mail_dict['date'] = driver.find_element_by_class_name('ns-view-message-head-date').text\n",
    "            mail_dict['text'] = driver.find_element_by_class_name('mail-Message-Content').text\n",
    "\n",
    "        except:\n",
    "            pass\n",
    "        \n",
    "        driver.back()\n",
    "        pars_mail.append(mail_dict) \n",
    "\n",
    "    driver.quit()\n",
    "    \n",
    "    return pars_mail"
   ]
  },
  {
   "cell_type": "code",
   "execution_count": 3,
   "metadata": {},
   "outputs": [],
   "source": [
    "pars_mail = yandex_mail_parse('gt1991@yandex.ru', os.environ['PASSWD'])"
   ]
  },
  {
   "cell_type": "code",
   "execution_count": 4,
   "metadata": {},
   "outputs": [
    {
     "data": {
      "text/plain": [
       "<pymongo.results.InsertManyResult at 0x212547d7848>"
      ]
     },
     "execution_count": 4,
     "metadata": {},
     "output_type": "execute_result"
    }
   ],
   "source": [
    "client = MongoClient('mongodb://127.0.0.1:27017')\n",
    "db = client['lesson_6']\n",
    "letters = db.letters\n",
    "\n",
    "letters.insert_many(pars_mail)"
   ]
  },
  {
   "cell_type": "markdown",
   "metadata": {},
   "source": [
    "### 2) Написать программу, которая собирает «Хиты продаж» с сайтов техники mvideo, onlinetrade и складывает данные в БД. Магазины можно выбрать свои. Главный критерий выбора: динамически загружаемые товары"
   ]
  },
  {
   "cell_type": "code",
   "execution_count": 21,
   "metadata": {},
   "outputs": [],
   "source": [
    "driver = webdriver.Chrome() \n",
    "driver.get(\"https://www.mvideo.ru/\")\n",
    "assert \"М.Видео\" in driver.title\n",
    "\n",
    "# Избавляемся от баннера\n",
    "WebDriverWait(driver,30).until(EC.presence_of_all_elements_located((By.ID, 'fl-212563')))\n",
    "action = ActionChains(driver)\n",
    "action.click()\n",
    "action.perform()\n",
    "\n",
    "# Получаем список кнопок для нажимания\n",
    "button_list = driver.find_elements_by_class_name('carousel-paging')[2].find_elements_by_tag_name('a')\n",
    "\n",
    "# Перемещаемся к скроллеру\n",
    "action = ActionChains(driver)\n",
    "action.move_to_element(driver.find_elements_by_class_name('listing-banner')[0])\n",
    "action.perform()\n",
    "\n",
    "goods_list = []  \n",
    "\n",
    "for button in button_list:\n",
    "    \n",
    "    button.click()\n",
    "    WebDriverWait(driver,10).until(EC.invisibility_of_element_located((By.CLASS_NAME, 'ajax-overlay_show'))) # Ожидание прогрузки товаров\n",
    "    time.sleep(1) #Время на отыгрывание анимации\n",
    "    \n",
    "    goods_div = driver.find_elements_by_class_name('accessories-product-list')[1].find_elements_by_class_name('sel-product-tile-main')\n",
    "\n",
    "    for iter_product in goods_div[0:4]:\n",
    "        \n",
    "        product = {}\n",
    "        product['tile'] = iter_product.find_element_by_class_name('sel-product-tile-title').text\n",
    "        product['price_current'] = iter_product.find_element_by_class_name('c-pdp-price__current').text[:-1]\n",
    "        product['price_old'] = iter_product.find_element_by_class_name('c-pdp-price__old').text\n",
    "        \n",
    "        if product not in goods_list:\n",
    "            goods_list.append(product)\n",
    "\n",
    "driver.quit()"
   ]
  },
  {
   "cell_type": "code",
   "execution_count": 22,
   "metadata": {},
   "outputs": [
    {
     "data": {
      "text/plain": [
       "19"
      ]
     },
     "execution_count": 22,
     "metadata": {},
     "output_type": "execute_result"
    }
   ],
   "source": [
    "len(goods_list)"
   ]
  },
  {
   "cell_type": "code",
   "execution_count": 8,
   "metadata": {},
   "outputs": [
    {
     "data": {
      "text/plain": [
       "<pymongo.results.InsertManyResult at 0x21254a37948>"
      ]
     },
     "execution_count": 8,
     "metadata": {},
     "output_type": "execute_result"
    }
   ],
   "source": [
    "goods = db.goods\n",
    "\n",
    "goods.insert_many(goods_list)"
   ]
  },
  {
   "cell_type": "code",
   "execution_count": null,
   "metadata": {},
   "outputs": [],
   "source": []
  }
 ],
 "metadata": {
  "kernelspec": {
   "display_name": "Python 3",
   "language": "python",
   "name": "python3"
  },
  "language_info": {
   "codemirror_mode": {
    "name": "ipython",
    "version": 3
   },
   "file_extension": ".py",
   "mimetype": "text/x-python",
   "name": "python",
   "nbconvert_exporter": "python",
   "pygments_lexer": "ipython3",
   "version": "3.7.3"
  }
 },
 "nbformat": 4,
 "nbformat_minor": 2
}

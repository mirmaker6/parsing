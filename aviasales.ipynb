{
 "cells": [
  {
   "cell_type": "code",
   "execution_count": 1,
   "metadata": {},
   "outputs": [],
   "source": [
    "import requests\n",
    "import pprint\n",
    "import json"
   ]
  },
  {
   "cell_type": "code",
   "execution_count": 10,
   "metadata": {},
   "outputs": [
    {
     "name": "stdout",
     "output_type": "stream",
     "text": [
      "Откуда и куда летим?\tИз Москвы в Нью-Йорк\n",
      "\n",
      "\n",
      "Пунк отправления: Москва\n",
      "Пунк назначения: Нью-Йорк\n",
      "\n",
      "Cтоимость перелета: 34757.0 р. \t\tДата вылета : 2019-08-18\n"
     ]
    }
   ],
   "source": [
    "IATA_URL = 'https://www.travelpayouts.com/widgets_suggest_params?q='\n",
    "search = input('Откуда и куда летим?\\t')\n",
    "req_iata =  requests.get(IATA_URL+search+'&one_way=true')\n",
    "\n",
    "data = json.loads(req_iata.text)\n",
    "\n",
    "origin_name = data['origin']['name']\n",
    "destination_name = data['destination']['name']\n",
    "\n",
    "request_str = 'http://min-prices.aviasales.ru/calendar_preload?origin='+ data['origin']['iata'] \\\n",
    "                + '&destination=' + data['destination']['iata']\n",
    "req = requests.get(request_str)\n",
    "\n",
    "data = json.loads(req.text)\n",
    "\n",
    "prise = data['best_prices'][0]['value']\n",
    "depart_date = data['best_prices'][0]['depart_date']\n",
    "\n",
    "print(f'\\n\\nПунк отправления: {origin_name}\\nПунк назначения: {destination_name}\\n\\nCтоимость перелета: {prise} р. \\t\\tДата вылета : {depart_date}')"
   ]
  },
  {
   "cell_type": "code",
   "execution_count": null,
   "metadata": {},
   "outputs": [],
   "source": []
  }
 ],
 "metadata": {
  "kernelspec": {
   "display_name": "Python 3",
   "language": "python",
   "name": "python3"
  },
  "language_info": {
   "codemirror_mode": {
    "name": "ipython",
    "version": 3
   },
   "file_extension": ".py",
   "mimetype": "text/x-python",
   "name": "python",
   "nbconvert_exporter": "python",
   "pygments_lexer": "ipython3",
   "version": "3.7.3"
  }
 },
 "nbformat": 4,
 "nbformat_minor": 2
}

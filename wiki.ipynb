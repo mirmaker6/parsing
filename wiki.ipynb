{
 "cells": [
  {
   "cell_type": "code",
   "execution_count": 151,
   "metadata": {},
   "outputs": [],
   "source": [
    "from requests import get\n",
    "import re\n",
    "\n",
    "def get_link(topic):\n",
    "    link = \"https://ru.wikipedia.org/wiki/\" + topic.capitalize()\n",
    "    return link\n",
    "\n",
    "def get_topic_page(topic):\n",
    "    link = get_link(topic)\n",
    "    html = get(link).text\n",
    "    return html\n",
    "\n",
    "def get_topic_text(topic):\n",
    "    words = re.findall(\"[а-яА-Я]{3,}\",html_content)\n",
    "    return words\n",
    "\n",
    "def get_common_words(url):\n",
    "    \n",
    "    html = get(url)\n",
    "    html.encoding = 'utf-8'\n",
    "    html_content = html.text\n",
    "    \n",
    "    words_list = re.findall(\"[а-яА-Я]{3,}\",html_content)\n",
    "    \n",
    "    rate={}\n",
    "    for word in words_list:\n",
    "        if word in rate:\n",
    "            rate[word]+=1\n",
    "        else:\n",
    "            rate[word]=1\n",
    "    rate_list = list(rate.items())\n",
    "    rate_list.sort(key = lambda x :-x[1])\n",
    "\n",
    "    return rate_list\n",
    "\n",
    "def visualize_common_words(words):\n",
    "    if len(words) == 0:\n",
    "        print(f'Проблема кодировки')\n",
    "    for w in words[0:5]:\n",
    "        print(f'\\tСолово \"{w[0]}\" встречается \"{w[1]}\" раз')\n",
    "    print('--'*30)"
   ]
  },
  {
   "cell_type": "code",
   "execution_count": 152,
   "metadata": {},
   "outputs": [],
   "source": [
    "#test = get('http://ec-dejavu.ru/d/Derevo.html')\n",
    "#test.encoding = 'utf-8'\n",
    "#test.text"
   ]
  },
  {
   "cell_type": "code",
   "execution_count": 165,
   "metadata": {},
   "outputs": [],
   "source": [
    "topic = 'Дерево'\n",
    "url = get_link(topic)\n",
    "html_content = get(url).text"
   ]
  },
  {
   "cell_type": "code",
   "execution_count": 166,
   "metadata": {},
   "outputs": [],
   "source": [
    "regex = '<li><a rel=\"nofollow\" class=\"external text\" href=\"(.+?)\".+?<\\/li>'\n",
    "urls_list = re.findall(regex, html_content)"
   ]
  },
  {
   "cell_type": "code",
   "execution_count": 167,
   "metadata": {
    "scrolled": false
   },
   "outputs": [
    {
     "name": "stdout",
     "output_type": "stream",
     "text": [
      "На оригинальном сайте https://ru.wikipedia.org/wiki/Дерево :\n",
      "\n",
      "\tСолово \"деревья\" встречается \"52\" раз\n",
      "\tСолово \"или\" встречается \"47\" раз\n",
      "\tСолово \"Дерево\" встречается \"44\" раз\n",
      "\tСолово \"деревьев\" встречается \"40\" раз\n",
      "\tСолово \"раздел\" встречается \"40\" раз\n",
      "------------------------------------------------------------\n",
      "На сайте http://transspot.ru/2013/05/31/pro-derevya-na-ulicax/ :\n",
      "\n",
      "\tСолово \"движения\" встречается \"26\" раз\n",
      "\tСолово \"деревьев\" встречается \"25\" раз\n",
      "\tСолово \"для\" встречается \"23\" раз\n",
      "\tСолово \"деревья\" встречается \"19\" раз\n",
      "\tСолово \"городе\" встречается \"17\" раз\n",
      "------------------------------------------------------------\n",
      "На сайте http://ec-dejavu.ru/d/Derevo.html :\n",
      "\n",
      "Проблема кодировки\n",
      "------------------------------------------------------------\n",
      "На сайте http://www.maleus.ru/index.php/news/129-tree :\n",
      "\n",
      "\tСолово \"что\" встречается \"5\" раз\n",
      "\tСолово \"окаменелости\" встречается \"4\" раз\n",
      "\tСолово \"Сбор\" встречается \"4\" раз\n",
      "\tСолово \"средств\" встречается \"4\" раз\n",
      "\tСолово \"хостинг\" встречается \"4\" раз\n",
      "------------------------------------------------------------\n",
      "На сайте http://www.na.fs.fed.us/spfo/pubs/silvics_manual/table_of_contents.htm :\n",
      "\n",
      "Проблема кодировки\n",
      "------------------------------------------------------------\n",
      "На сайте http://hort.ifas.ufl.edu/woody/ :\n",
      "\n",
      "Проблема кодировки\n",
      "------------------------------------------------------------\n"
     ]
    }
   ],
   "source": [
    "print(f'На оригинальном сайте {url} :\\n')\n",
    "words = get_common_words(url)\n",
    "visualize_common_words(words)\n",
    "for url in urls_list:\n",
    "    words = get_common_words(url)\n",
    "    print(f'На сайте {url} :\\n')\n",
    "    visualize_common_words(words)"
   ]
  },
  {
   "cell_type": "code",
   "execution_count": null,
   "metadata": {},
   "outputs": [],
   "source": []
  }
 ],
 "metadata": {
  "kernelspec": {
   "display_name": "Python 3",
   "language": "python",
   "name": "python3"
  },
  "language_info": {
   "codemirror_mode": {
    "name": "ipython",
    "version": 3
   },
   "file_extension": ".py",
   "mimetype": "text/x-python",
   "name": "python",
   "nbconvert_exporter": "python",
   "pygments_lexer": "ipython3",
   "version": "3.7.3"
  }
 },
 "nbformat": 4,
 "nbformat_minor": 2
}

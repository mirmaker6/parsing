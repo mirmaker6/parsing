{
 "cells": [
  {
   "cell_type": "markdown",
   "metadata": {},
   "source": [
    "1) Необходимо собрать информацию о вакансиях на должность программиста или разработчика с сайта job.ru или hh.ru. (Можно с обоих сразу) Приложение должно анализировать несколько страниц сайта. Получившийся список должен содержать в себе: \n",
    "* Наименование вакансии, \n",
    "* Предлагаемую зарплату,\n",
    "\n",
    "* Ссылку на саму вакансию\n",
    "\n",
    "2) Доработать приложение таким образом, чтобы можно было искать разработчиков на разные языки программирования (Например Python, Java, C++)"
   ]
  },
  {
   "cell_type": "code",
   "execution_count": 1,
   "metadata": {},
   "outputs": [],
   "source": [
    "from bs4 import BeautifulSoup as bs\n",
    "import requests"
   ]
  },
  {
   "cell_type": "code",
   "execution_count": 2,
   "metadata": {},
   "outputs": [
    {
     "data": {
      "text/plain": [
       "<Response [404]>"
      ]
     },
     "execution_count": 2,
     "metadata": {},
     "output_type": "execute_result"
    }
   ],
   "source": [
    "requests.get('https://hh.ru/')"
   ]
  },
  {
   "cell_type": "markdown",
   "metadata": {},
   "source": [
    "Будем парсить мобильную версию)"
   ]
  },
  {
   "cell_type": "code",
   "execution_count": 3,
   "metadata": {},
   "outputs": [],
   "source": [
    "def req_hh(lang, page):\n",
    "    if lang == 'C#':\n",
    "        lang = 'C%23'\n",
    "    URL = f'https://m.hh.ru/vacancies?text={lang}&only_with_salary=true&area=1&page={page}'\n",
    "    get = requests.get(URL)\n",
    "    get.encoding = 'utf-8'\n",
    "    html = get.text\n",
    "    parsed_html = bs(html,'lxml')\n",
    "    return parsed_html"
   ]
  },
  {
   "cell_type": "code",
   "execution_count": 4,
   "metadata": {},
   "outputs": [],
   "source": [
    "REQUEST = 'Python'\n",
    "NUMB_PAGES = 5"
   ]
  },
  {
   "cell_type": "code",
   "execution_count": 5,
   "metadata": {
    "scrolled": false
   },
   "outputs": [
    {
     "name": "stdout",
     "output_type": "stream",
     "text": [
      "100 000 – 140 000 ₽\tData engineer (ML-разработчик, python)\thttps://hh.ru/vacancy/32099770\n",
      "80 000 + ₽\tПрограммист Python\thttps://hh.ru/vacancy/32271659\n",
      "160 000 + ₽\tРазработчик Python / Django\thttps://hh.ru/vacancy/31997075\n",
      "160 000 – 200 000 ₽\tРазработчик Python\thttps://hh.ru/vacancy/31624245\n",
      "150 000 – 250 000 ₽\tВедущий Python разработчик\thttps://hh.ru/vacancy/32061372\n",
      "150 000 + ₽\tПрограммист Python\thttps://hh.ru/vacancy/32304134\n",
      "120 000 – 180 000 ₽\tРазработчик Python\thttps://hh.ru/vacancy/30451399\n",
      "4 000 + $\tPython developer (Библиотеки для автотестирования)\thttps://hh.ru/vacancy/30005963\n",
      "70 000 – 100 000 ₽\tПрограммист Python/C++\thttps://hh.ru/vacancy/32309858\n",
      "100 000 – 180 000 ₽\tПрограммист Python\thttps://hh.ru/vacancy/32139253\n",
      "140 000 + ₽\tРазработчик Python\thttps://hh.ru/vacancy/31194079\n",
      "130 000 - ₽\tPython-разработчик\thttps://hh.ru/vacancy/31965654\n",
      "150 000 – 200 000 ₽\tРазработчик Python\thttps://hh.ru/vacancy/31566378\n",
      "80 000 – 130 000 ₽\tПрограммист Python\thttps://hh.ru/vacancy/30615541\n",
      "150 000 – 220 000 ₽\tSenior Python Developer\thttps://hh.ru/vacancy/31987135\n",
      "95 000 + ₽\tРазработчик Python\thttps://hh.ru/vacancy/31559789\n",
      "180 000 – 230 000 ₽\tSenior Python developer (Cloud Services)\thttps://hh.ru/vacancy/32152220\n",
      "300 000 – 400 000 ₽\tData Engineering Team Lead (Python / C++)\thttps://hh.ru/vacancy/32030680\n",
      "150 000 – 230 000 ₽\tPython developer (Cloud Services)\thttps://hh.ru/vacancy/31952519\n",
      "200 000 – 300 000 ₽\tPython Web Developer\thttps://hh.ru/vacancy/32096105\n",
      "90 000 – 140 000 ₽\tПрограммист Python, C++\thttps://hh.ru/vacancy/30616175\n",
      "100 000 + ₽\tBackend Python – разработчик\thttps://hh.ru/vacancy/32060659\n",
      "80 000 – 140 000 ₽\tПрограммист Python (Middle)\thttps://hh.ru/vacancy/32190751\n",
      "160 000 – 250 000 ₽\tPython Developer\thttps://hh.ru/vacancy/32072763\n",
      "130 000 + ₽\tПрограммист Python\thttps://hh.ru/vacancy/32262391\n",
      "120 000 – 200 000 ₽\tBackend python/Django разработчик\thttps://hh.ru/vacancy/32027484\n",
      "80 000 – 120 000 ₽\tРазработчик Python/Django\thttps://hh.ru/vacancy/32204923\n",
      "2 000 – 3 000 €\tПрограммист Python (в Ригу)\thttps://hh.ru/vacancy/32079548\n",
      "60 000 – 100 000 ₽\tПрограммист Python\thttps://hh.ru/vacancy/32260756\n",
      "180 000 + ₽\tРазработчик Python и SQL\thttps://hh.ru/vacancy/31929637\n",
      "40 000 – 60 000 ₽\tJunior Python разработчик\thttps://hh.ru/vacancy/32118664\n",
      "100 000 + ₽\tPython-разработчик\thttps://hh.ru/vacancy/32251802\n",
      "100 000 – 140 000 ₽\tJunior Data Developer (Python)\thttps://hh.ru/vacancy/32030586\n",
      "60 000 – 100 000 ₽\tPython/Django разработчик\thttps://hh.ru/vacancy/32158934\n",
      "30 000 – 50 000 ₽\tПрограммист web, Django / Python\thttps://hh.ru/vacancy/32037528\n",
      "145 000 – 255 000 ₽\tРазработчик Python/Django + React.js\thttps://hh.ru/vacancy/31844761\n",
      "60 000 + ₽\tПрограммист-математик Linux (Python)\thttps://hh.ru/vacancy/32027078\n",
      "30 000 – 50 000 ₽\tПрограммист Python\thttps://hh.ru/vacancy/32028527\n",
      "40 000 – 100 000 ₽\tПрограммист Python (junior)\thttps://hh.ru/vacancy/32202286\n",
      "150 000 + ₽\tPython Data Scientist\thttps://hh.ru/vacancy/32068519\n",
      "120 000 – 200 000 ₽\tРазработчик Python/Team-lead\thttps://hh.ru/vacancy/31974215\n",
      "150 000 + ₽\tPython developer/ backend разработчик\thttps://hh.ru/vacancy/31895113\n",
      "130 000 – 165 000 ₽\tРазработчик Python (Middle)\thttps://hh.ru/vacancy/31859124\n",
      "80 000 – 140 000 ₽\tFull-stack разработчик (Python, JavaScript)\thttps://hh.ru/vacancy/31557124\n",
      "90 000 – 120 000 ₽\tFull-stack разработчик Django / Python\thttps://hh.ru/vacancy/32079250\n",
      "200 000 + ₽\tВедущий разработчик Python на платежную платформу\thttps://hh.ru/vacancy/32256640\n",
      "150 000 - ₽\tBackend developer (Python)\thttps://hh.ru/vacancy/32190739\n",
      "100 000 – 250 000 ₽\tNLP engineer / Data scientist NLP\thttps://hh.ru/vacancy/31963667\n",
      "140 000 – 180 000 ₽\tBack-end Python/Django developer в стартап\thttps://hh.ru/vacancy/32218715\n",
      "80 000 + ₽\tАналитик (Data Analyst) Python/SQL\thttps://hh.ru/vacancy/32304811\n",
      "120 000 + ₽\tРазработчик Python\thttps://hh.ru/vacancy/30424698\n",
      "100 000 – 150 000 ₽\tJunior/Middle Full Stack разработчик (Python)\thttps://hh.ru/vacancy/32037475\n",
      "100 000 – 120 000 ₽\tПрограммист Python\thttps://hh.ru/vacancy/32186332\n",
      "160 000 - ₽\tПрограммист Python\thttps://hh.ru/vacancy/32190927\n",
      "80 000 – 120 000 ₽\tPython - разработчик\thttps://hh.ru/vacancy/32104524\n",
      "170 000 - ₽\tData scientist\thttps://hh.ru/vacancy/32098628\n",
      "100 000 – 170 000 ₽\tРазработчик Python\thttps://hh.ru/vacancy/30392442\n",
      "80 000 – 140 000 ₽\tFullstack разработчик (Python/Django)\thttps://hh.ru/vacancy/31678843\n",
      "1 000 + $\tDjango developer\thttps://hh.ru/vacancy/32102652\n",
      "100 000 – 200 000 ₽\tFull-stack разработчик (Python, JavaScript)\thttps://hh.ru/vacancy/29195763\n",
      "100 000 + ₽\tMiddle Разработчик Python\thttps://hh.ru/vacancy/32072937\n",
      "100 000 – 150 000 ₽\tPython/Django разработчик\thttps://hh.ru/vacancy/32097262\n",
      "2 000 – 3 000 $\tPython Developer\thttps://hh.ru/vacancy/31617240\n",
      "300 000 - ₽\tData Scientist\thttps://hh.ru/vacancy/31868628\n",
      "120 000 – 150 000 ₽\tПрограммист Python Django\thttps://hh.ru/vacancy/32008852\n",
      "150 000 + ₽\tBackend-разработчик / разработчик python/django\thttps://hh.ru/vacancy/32014294\n",
      "100 000 – 180 000 ₽\tBack-end разработчик Python\thttps://hh.ru/vacancy/31547598\n",
      "75 000 – 110 000 ₽\tПрограммист Python\thttps://hh.ru/vacancy/31347220\n",
      "60 000 – 120 000 ₽\tНачинающий программист-математик ( C#, python, машинное обучение, компьютерное зрение)\thttps://hh.ru/vacancy/31852462\n",
      "150 000 + ₽\tFront-end Developer (JavaScript, React)\thttps://hh.ru/vacancy/32077832\n",
      "200 000 + ₽\tSenior Front-end Developer (JavaScript, React)\thttps://hh.ru/vacancy/32144172\n",
      "150 000 + ₽\tBig Data Engineer\thttps://hh.ru/vacancy/32182817\n",
      "130 000 + ₽\tPHP-разработчик\thttps://hh.ru/vacancy/31996962\n",
      "120 000 – 170 000 ₽\tC++ developer (embedded Linux)\thttps://hh.ru/vacancy/32235565\n",
      "170 000 + ₽\tВедущий разработчик Python тимлид / Python team lead\thttps://hh.ru/vacancy/32305403\n",
      "80 000 – 300 000 ₽\tАналитик данных / Data Scientist\thttps://hh.ru/vacancy/31887942\n",
      "160 000 + ₽\tSenior Front-end разработчик (React)\thttps://hh.ru/vacancy/30694029\n",
      "180 000 + ₽\tFrontend-разработчик ExtJS\thttps://hh.ru/vacancy/31225130\n",
      "250 000 - ₽\tБекенд-разработчик (Golang / Java)\thttps://hh.ru/vacancy/32152422\n",
      "120 000 + ₽\tПрограммист С++\thttps://hh.ru/vacancy/32240278\n",
      "100 000 + ₽\tПрограммист-разработчик Unity\thttps://hh.ru/vacancy/32305803\n",
      "80 000 + ₽\tFrontend разработчик (Москва)\thttps://hh.ru/vacancy/32305214\n",
      "100 000 – 160 000 ₽\tPython разработчик\thttps://hh.ru/vacancy/32290288\n",
      "180 000 + ₽\tВедущий разработчик C++\thttps://hh.ru/vacancy/31904629\n",
      "100 000 – 200 000 ₽\tТестировщик / QA Engineer (iOS !!!)\thttps://hh.ru/vacancy/32208746\n",
      "150 000 – 200 000 ₽\tDevOps Engineer (Build Infrastructure)\thttps://hh.ru/vacancy/31990129\n",
      "100 000 – 250 000 ₽\tData Scientist\thttps://hh.ru/vacancy/30026091\n",
      "1 500 + €\tPython Developer\thttps://hh.ru/vacancy/32126181\n",
      "250 000 + ₽\tJava-разработчик\thttps://hh.ru/vacancy/31964989\n",
      "100 000 – 250 000 ₽\tData Scientist/Machine Learning Engineer\thttps://hh.ru/vacancy/32302572\n",
      "250 000 – 350 000 ₽\tJava/Go Team Lead\thttps://hh.ru/vacancy/31912663\n",
      "80 000 – 120 000 ₽\tBackend-разработчик\thttps://hh.ru/vacancy/32054875\n",
      "60 000 – 80 000 ₽\tData аналитик / Специалист по работе с данными\thttps://hh.ru/vacancy/32150650\n",
      "2 500 – 5 000 €\tMid/Sr Python Developer, Betmaster (relocation)\thttps://hh.ru/vacancy/31873540\n",
      "220 000 + ₽\tErlang разработчик\thttps://hh.ru/vacancy/31881598\n",
      "80 000 – 170 000 ₽\tComputer Vision/ML Engineer\thttps://hh.ru/vacancy/31558015\n",
      "50 000 + ₽\tQA Automation Engineer\thttps://hh.ru/vacancy/32240440\n",
      "70 000 – 100 000 ₽\tРазработчик серверной части на NodeJS\thttps://hh.ru/vacancy/31966119\n",
      "180 000 + ₽\tQA engineer - Bright\thttps://hh.ru/vacancy/31888627\n",
      "150 000 + ₽\tDevOps инженер / Системный администратор Linux\thttps://hh.ru/vacancy/31757789\n",
      "150 000 + ₽\tDevOps инженер (удаленно)\thttps://hh.ru/vacancy/32296882\n",
      "4 000 + $\tCI Engineer\thttps://hh.ru/vacancy/27812469\n",
      "140 000 + ₽\tPython developer\thttps://hh.ru/vacancy/32046627\n",
      "180 000 + ₽\tSenior asp.net developer/Ведущий asp.net разработчик/ C#\thttps://hh.ru/vacancy/31958071\n",
      "65 000 – 65 000 ₽\tPHP-разработчик\thttps://hh.ru/vacancy/31277889\n",
      "100 000 + ₽\tВедущий devops / системный инженер\thttps://hh.ru/vacancy/32306300\n",
      "140 000 + ₽\tQA-инженер (Python)\thttps://hh.ru/vacancy/30445725\n",
      "100 000 + ₽\tВедущий программист (мат. моделирование, CUDA)\thttps://hh.ru/vacancy/30510148\n",
      "3 000 + $\tQA Automation Engineer (Python)\thttps://hh.ru/vacancy/31552615\n",
      "160 000 - ₽\tPython-разработчик\thttps://hh.ru/vacancy/32272675\n",
      "120 000 – 165 000 ₽\tMiddle PHP Developer\thttps://hh.ru/vacancy/32143312\n",
      "95 000 – 150 000 ₽\tPHP-разработчик\thttps://hh.ru/vacancy/31881222\n",
      "150 000 – 250 000 ₽\tQuantitative Researcher Intern\thttps://hh.ru/vacancy/31844648\n",
      "80 000 – 100 000 ₽\tМладший разработчик веб-скрейперов (Python, Selenium)\thttps://hh.ru/vacancy/31240024\n",
      "120 000 + ₽\tМладший компьютерный лингвист (Python)\thttps://hh.ru/vacancy/31240083\n",
      "4 000 + $\tSoftware Engineer (C++ Build System)\thttps://hh.ru/vacancy/29056936\n",
      "230 000 + ₽\tProduct Manager (SaaS, Eng)\thttps://hh.ru/vacancy/32155499\n",
      "80 000 – 120 000 ₽\tWEB-аналитик\thttps://hh.ru/vacancy/31961555\n",
      "180 000 + ₽\tC++ developer - Quantum\thttps://hh.ru/vacancy/32119889\n",
      "50 000 – 80 000 ₽\tТестировщик программного обеспечения\thttps://hh.ru/vacancy/32301157\n"
     ]
    },
    {
     "name": "stdout",
     "output_type": "stream",
     "text": [
      "50 000 + ₽\tМладший аналитик\thttps://hh.ru/vacancy/32151685\n",
      "300 000 + ₽\tQuantitative Researcher\thttps://hh.ru/vacancy/29014173\n",
      "40 000 – 200 000 ₽\tСпециалист по защищенности информационных систем / Пентестер\thttps://hh.ru/vacancy/31989760\n",
      "7 000 - $\tПрограммист-математик/ алгоритмист (США)\thttps://hh.ru/vacancy/31953364\n",
      "180 000 – 230 000 ₽\tSenior Vue.js Front-end Developer\thttps://hh.ru/vacancy/31867197\n",
      "250 000 – 320 000 ₽\tBig Data Engineer\thttps://hh.ru/vacancy/31861091\n",
      "100 000 – 250 000 ₽\tComputer Vision / Data scientist CV\thttps://hh.ru/vacancy/32090394\n",
      "100 + ₽\tFullstack-разработчик / Full stack developer\thttps://hh.ru/vacancy/32302762\n",
      "170 000 – 200 000 ₽\tВедущий инженер-программист\thttps://hh.ru/vacancy/30610923\n",
      "40 000 – 50 000 ₽\tКомпьютерный лингвист-тестировщик\thttps://hh.ru/vacancy/32240444\n",
      "80 000 + ₽\tМладший программист-разработчик C/С++ (junior programmer/developer)\thttps://hh.ru/vacancy/32028640\n",
      "100 000 – 200 000 ₽\tПрограммист  C++\thttps://hh.ru/vacancy/32092080\n",
      "170 000 + ₽\tСерверный разработчик С++ / Backend Developer C++ (middle/senior)\thttps://hh.ru/vacancy/32023564\n",
      "80 000 – 130 000 ₽\tСпециалист технической поддержки и тестирования\thttps://hh.ru/vacancy/31558368\n",
      "70 000 – 100 000 ₽\tАналитик-математик (Junior Data Analyst)\thttps://hh.ru/vacancy/30250465\n",
      "160 000 - ₽\tПрограммист С++\thttps://hh.ru/vacancy/32304535\n",
      "150 000 – 200 000 ₽\tВедущий разработчик/ проектировщик\thttps://hh.ru/vacancy/32047769\n",
      "210 000 – 250 000 ₽\tSenior Back-End Developer (PHP)\thttps://hh.ru/vacancy/32108917\n",
      "50 000 – 75 000 ₽\tСистемный администратор\thttps://hh.ru/vacancy/31885772\n",
      "120 000 - ₽\tАналитик\thttps://hh.ru/vacancy/31386226\n",
      "100 000 – 140 000 ₽\tИнженер-программист (Middle Software Engineer)\thttps://hh.ru/vacancy/31194172\n",
      "90 000 – 110 000 ₽\tПрограммист C# (GUI)\thttps://hh.ru/vacancy/31964843\n",
      "170 000 - ₽\tПрограммист / Разработчик С++\thttps://hh.ru/vacancy/32185646\n",
      "120 000 – 180 000 ₽\tData Science AI специалист\thttps://hh.ru/vacancy/32294214\n",
      "100 000 - ₽\tПрограммист JavaScript, Python/ JS Developer\thttps://hh.ru/vacancy/31983442\n",
      "400 000 - ₽\tData scientist/Project manager\thttps://hh.ru/vacancy/32300479\n",
      "110 000 – 200 000 ₽\tРуководитель ИТ службы / Системный архитектор\thttps://hh.ru/vacancy/31965792\n",
      "200 000 + ₽\tАрхитектор ПО\thttps://hh.ru/vacancy/32212257\n",
      "150 000 + ₽\tWeb-программист\thttps://hh.ru/vacancy/32086257\n",
      "55 000 + ₽\tPHP web developer\thttps://hh.ru/vacancy/31866204\n"
     ]
    }
   ],
   "source": [
    "for page in range(NUMB_PAGES):\n",
    "    \n",
    "    parsed_html = req_hh(REQUEST, page)\n",
    "    divs_with_job = parsed_html.find_all('ul')[0].find_all('li')\n",
    "    \n",
    "    for i in divs_with_job:\n",
    "        spam_currency = i.find_all('span')\n",
    "        \n",
    "        if len(spam_currency) > 1:\n",
    "            salary = list(i.find_all('span')[0].strings)[0]\n",
    "            \n",
    "            if salary[:2] == 'от':\n",
    "                salary = salary[23:]\n",
    "                print(salary, end=' +')\n",
    "            \n",
    "            elif salary[:2] == 'до':\n",
    "                salary = salary[23:]\n",
    "                print(salary, end=' -')\n",
    "\n",
    "            else:\n",
    "                print(salary, end='')\n",
    "            \n",
    "            currency = i.find_all('span')[1].string\n",
    "            description = i.find_all('div')[1].string[13:-9]\n",
    "            url = i.find_all('a')[-1]['href']\n",
    "            \n",
    "            print(f' {currency}\\t{description}\\t{url:>10}')"
   ]
  }
 ],
 "metadata": {
  "kernelspec": {
   "display_name": "Python 3",
   "language": "python",
   "name": "python3"
  },
  "language_info": {
   "codemirror_mode": {
    "name": "ipython",
    "version": 3
   },
   "file_extension": ".py",
   "mimetype": "text/x-python",
   "name": "python",
   "nbconvert_exporter": "python",
   "pygments_lexer": "ipython3",
   "version": "3.7.3"
  }
 },
 "nbformat": 4,
 "nbformat_minor": 2
}

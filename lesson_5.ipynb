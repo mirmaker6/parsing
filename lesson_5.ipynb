{
 "cells": [
  {
   "cell_type": "markdown",
   "metadata": {},
   "source": [
    "Запросить курсы любой валюты за последний год. Сохранить полученные данные в базу данных Mongo\n",
    "\n",
    "\n",
    "Написать функцию, которая принимает в качестве параметров две даты, ищет самую большую разницу между курсами валюты за указанный период и возвращает эти дни.\n",
    "\n",
    "Сделать вывод информативным: Валюту <Валюта> выгодно было купить <Дата>, а продать <Дата>. Прибыль: <Разница в цене валюты>"
   ]
  },
  {
   "cell_type": "code",
   "execution_count": 1,
   "metadata": {},
   "outputs": [],
   "source": [
    "import requests\n",
    "from zeep import Client\n",
    "from pymongo import MongoClient\n",
    "import pandas as pd\n",
    "import re"
   ]
  },
  {
   "cell_type": "markdown",
   "metadata": {},
   "source": [
    "Инициализация БД:"
   ]
  },
  {
   "cell_type": "code",
   "execution_count": 2,
   "metadata": {},
   "outputs": [],
   "source": [
    "client = MongoClient('mongodb://127.0.0.1:27017')\n",
    "db = client['lesson_5']\n",
    "collection = db.currency"
   ]
  },
  {
   "cell_type": "code",
   "execution_count": 3,
   "metadata": {},
   "outputs": [
    {
     "name": "stderr",
     "output_type": "stream",
     "text": [
      "Forcing soap:address location to HTTPS\n",
      "Forcing soap:address location to HTTPS\n"
     ]
    }
   ],
   "source": [
    "URL = 'https://www.cbr.ru/DailyInfoWebServ/DailyInfo.asmx?WSDL'\n",
    "client = Client(URL)"
   ]
  },
  {
   "cell_type": "code",
   "execution_count": 4,
   "metadata": {},
   "outputs": [],
   "source": [
    "def date_rate(date):\n",
    "    \n",
    "    date_rate = {}\n",
    "    \n",
    "    try:\n",
    "                \n",
    "        currency_list = client.service.GetCursOnDate(date)._value_1._value_1\n",
    "        currency = currency_list[8]\n",
    "        \n",
    "        nom = currency['ValuteCursOnDate']['Vnom']\n",
    "        rate = currency['ValuteCursOnDate']['Vcurs']\n",
    "            \n",
    "        date_rate['date'] = pd.to_datetime(date)\n",
    "        date_rate['rate'] = float(rate / nom)\n",
    "        date_rate['name'] = re.findall('[а-яА-Я]+\\ [а-яА-Я]*', currency['ValuteCursOnDate']['Vname'])[0]\n",
    "\n",
    "        return date_rate\n",
    "        \n",
    "    except :\n",
    "        \n",
    "        pass\n",
    "\n",
    "    \n",
    "def min_max_search(date1, date2):\n",
    "    \n",
    "    min_max_dict = {}\n",
    "    \n",
    "    pipeline = [{'$match' : {'$and': [ {'date': {'$gte': date1} }, {'date': {'$lte': date2} }]}},  \n",
    "                {'$sort': { 'rate': 1 } }]\n",
    "    col_list = list(collection.aggregate(pipeline))\n",
    "\n",
    "    min_max_dict['date_min_rate'] = col_list[0]['date'].strftime('%d %B %Y')\n",
    "    min_max_dict['min_rate'] = col_list[0]['rate']\n",
    "    min_max_dict['date_max_rate'] = col_list[-1]['date'].strftime('%d %B %Y')\n",
    "    min_max_dict['max_rate'] = col_list[-1]['rate']\n",
    "    min_max_dict['name'] = col_list[0]['name']\n",
    "    \n",
    "    return min_max_dict"
   ]
  },
  {
   "cell_type": "code",
   "execution_count": 5,
   "metadata": {},
   "outputs": [],
   "source": [
    "year_rate_list = []\n",
    "for date in pd.date_range(end=pd.datetime.today(), periods=365).strftime('%Y-%m-%d').tolist():\n",
    "    year_rate_list.append(date_rate(date))"
   ]
  },
  {
   "cell_type": "code",
   "execution_count": 6,
   "metadata": {},
   "outputs": [],
   "source": [
    "collection.insert_many(year_rate_list)\n",
    "pass"
   ]
  },
  {
   "cell_type": "markdown",
   "metadata": {},
   "source": [
    "Написать функцию, которая принимает в качестве параметров две даты, ищет самую большую разницу между курсами валюты за указанный период и возвращает эти дни."
   ]
  },
  {
   "cell_type": "code",
   "execution_count": 7,
   "metadata": {},
   "outputs": [],
   "source": [
    "DATA_1 = '2018-11-02'\n",
    "DATA_2 = '2019-01-04'"
   ]
  },
  {
   "cell_type": "code",
   "execution_count": 8,
   "metadata": {},
   "outputs": [],
   "source": [
    "date1 = pd.to_datetime(DATA_1)\n",
    "date2 = pd.to_datetime(DATA_2)\n",
    "res = min_max_search(date1, date2)"
   ]
  },
  {
   "cell_type": "code",
   "execution_count": 9,
   "metadata": {},
   "outputs": [
    {
     "name": "stdout",
     "output_type": "stream",
     "text": [
      "Валюта: Гонконгский доллар\n",
      "Выгодно было купить 03 November 2018, а продать 29 December 2018.\n",
      "Прибыль: 6.09%\n"
     ]
    }
   ],
   "source": [
    "print(f'Валюта: {res[\"name\"]}\\nВыгодно было купить {res[\"date_min_rate\"]}, а продать {res[\"date_max_rate\"]}.\\n\\\n",
    "Прибыль: {(res[\"max_rate\"] / res[\"min_rate\"] - 1) * 100 :.2f}%')"
   ]
  }
 ],
 "metadata": {
  "kernelspec": {
   "display_name": "Python 3",
   "language": "python",
   "name": "python3"
  },
  "language_info": {
   "codemirror_mode": {
    "name": "ipython",
    "version": 3
   },
   "file_extension": ".py",
   "mimetype": "text/x-python",
   "name": "python",
   "nbconvert_exporter": "python",
   "pygments_lexer": "ipython3",
   "version": "3.7.3"
  }
 },
 "nbformat": 4,
 "nbformat_minor": 2
}
